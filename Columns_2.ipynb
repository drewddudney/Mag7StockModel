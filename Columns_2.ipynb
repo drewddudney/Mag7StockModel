{
 "cells": [
  {
   "cell_type": "markdown",
   "id": "f22b7f88-7ba6-4d59-9408-3bba1662ff7a",
   "metadata": {},
   "source": [
    "# Columns\n",
    "### Script 2"
   ]
  },
  {
   "cell_type": "code",
   "execution_count": 1,
   "id": "ae4625da-4a06-4a72-a4f8-4ae3e15e59df",
   "metadata": {},
   "outputs": [],
   "source": [
    "import pandas as pd\n",
    "#SQL\n",
    "import psycopg2\n",
    "from sqlalchemy import create_engine\n",
    "import os"
   ]
  },
  {
   "cell_type": "markdown",
   "id": "59f87092-5e34-4f20-8fdc-23a0be9d2dc7",
   "metadata": {},
   "source": [
    "## Pull the stored data from SQL"
   ]
  },
  {
   "cell_type": "code",
   "execution_count": 4,
   "id": "3694b654-0ec2-4b63-9019-8857a0fe01bb",
   "metadata": {},
   "outputs": [],
   "source": [
    "# Using SQLAlchemy to pull data due to using Pandas\n",
    "def pull_from_sql(table_name=\"stock_prices\"):\n",
    "    try:\n",
    "        # Create engine\n",
    "        user = os.getenv(\"DB_USER\")\n",
    "        password = os.getenv(\"DB_PASSWORD\")\n",
    "        host = os.getenv(\"DB_HOST\")\n",
    "        port = os.getenv(\"DB_PORT\")\n",
    "        db_name = os.getenv(\"DB_NAME\")\n",
    "\n",
    "        engine = create_engine(f\"postgresql+psycopg2://{user}:{password}@{host}:{port}/{db_name}\")\n",
    "\n",
    "        # Read data\n",
    "        query = f\"SELECT * FROM {table_name};\"\n",
    "        df = pd.read_sql_query(query, engine)\n",
    "\n",
    "        print(\"Successfully pulled SQL Data\")\n",
    "        return df\n",
    "\n",
    "    except Exception as e:\n",
    "        print(f\"Error pulling data from SQL: {e}\")\n",
    "        return None\n",
    "    finally:\n",
    "        engine.dispose() "
   ]
  },
  {
   "cell_type": "markdown",
   "id": "cfef6273-a344-4372-9b60-c6b0de66e74c",
   "metadata": {},
   "source": [
    "## Columns Added for Both Data Sets"
   ]
  },
  {
   "cell_type": "code",
   "execution_count": 7,
   "id": "c2c8ef7a-baee-44d5-b283-4ba03c470c3c",
   "metadata": {},
   "outputs": [],
   "source": [
    "def add_additional_features(cleaned_data):\n",
    "    # Calculate daily returns\n",
    "    cleaned_data['percent_change'] = round(cleaned_data.groupby('symbol')['current_price'].pct_change() * 100,2)\n",
    "\n",
    "    # Calculate cumulative returns\n",
    "    cleaned_data['cumulative_return'] = cleaned_data.groupby('symbol')['current_price'].transform(lambda x: (x / x.iloc[0]) - 1) * 100\n",
    "\n",
    "    # Calculate moving averages\n",
    "    cleaned_data['ma_10_day'] = cleaned_data.groupby('symbol')['current_price'].transform(lambda x: x.rolling(window=10).mean())\n",
    "    cleaned_data['ma_30_day'] = cleaned_data.groupby('symbol')['current_price'].transform(lambda x: x.rolling(window=30).mean())\n",
    "\n",
    "    # Calculate rolling volatility (standard deviation of returns)\n",
    "    cleaned_data['volatility_30_day'] = cleaned_data.groupby('symbol')['percent_change'].transform(lambda x: x.rolling(window=30).std())\n",
    "\n",
    "    # Calculate Exponential Moving Average (EMA)\n",
    "    cleaned_data['EMA_10'] = cleaned_data.groupby('symbol')['current_price'].transform(lambda x: x.ewm(span=10, adjust=False).mean())\n",
    "    cleaned_data['EMA_30'] = cleaned_data.groupby('symbol')['current_price'].transform(lambda x: x.ewm(span=30, adjust=False).mean())\n",
    "    #Dropping first 210 due to NA values in those columns\n",
    "    cleaned_data = cleaned_data.drop(index=cleaned_data.index[0:210]).reset_index(drop=True)\n",
    "\n",
    "    return cleaned_data\n"
   ]
  },
  {
   "cell_type": "markdown",
   "id": "8e85c6cb-eef3-4172-8f5f-612a333a0183",
   "metadata": {},
   "source": [
    "## Push new calculated values back to SQL"
   ]
  },
  {
   "cell_type": "code",
   "execution_count": 10,
   "id": "9116a530-7397-4351-82fe-6377e5eb72bb",
   "metadata": {},
   "outputs": [],
   "source": [
    "def push_calculated_to_sql(df, table_name=\"full_stock_calculations\"):\n",
    "    try:\n",
    "        # Connect to PostgreSQL\n",
    "        conn = psycopg2.connect(\n",
    "            dbname= os.getenv(\"DB_NAME\"),\n",
    "            user=os.getenv(\"DB_USER\"),\n",
    "            password=os.getenv(\"DB_PASSWORD\"),\n",
    "            host=os.getenv(\"DB_HOST\"),\n",
    "            port=os.getenv(\"DB_PORT\")\n",
    "        )\n",
    "        cursor = conn.cursor()\n",
    "\n",
    "        # Create Table if it doesn't exist in SQL\n",
    "        create_table_query = f\"\"\"\n",
    "        CREATE TABLE IF NOT EXISTS {table_name} (\n",
    "            symbol TEXT,\n",
    "            name TEXT,\n",
    "            date DATE,\n",
    "            current_price FLOAT,\n",
    "            open_price FLOAT,\n",
    "            percent_change FLOAT,\n",
    "            cumulative_return FLOAT,\n",
    "            ma_10_day FLOAT,\n",
    "            ma_30_day FLOAT,\n",
    "            volatility_30_day FLOAT,\n",
    "            EMA_10 FLOAT,\n",
    "            EMA_30 FLOAT,\n",
    "            PRIMARY KEY (symbol, date) \n",
    "        );\n",
    "        \"\"\"\n",
    "        cursor.execute(create_table_query)\n",
    "\n",
    "        # Insert Data\n",
    "        for _, row in df.iterrows():\n",
    "            insert_query = f\"\"\"\n",
    "            INSERT INTO {table_name} (symbol, name, date, current_price, open_price, percent_change, \n",
    "            cumulative_return, ma_10_day, ma_30_day, volatility_30_day, EMA_10, EMA_30)\n",
    "            VALUES (%s, %s, %s, %s, %s, %s, %s, %s, %s, %s, %s, %s)\n",
    "            ON CONFLICT (symbol, date) DO NOTHING;  -- Prevent duplicate entries\n",
    "            \"\"\"\n",
    "            cursor.execute(insert_query, (\n",
    "                row['symbol'], row['name'], row['date'],\n",
    "                row['current_price'], row['open_price'],\n",
    "                row['percent_change'], row['cumulative_return'],\n",
    "                row['ma_10_day'], row['ma_30_day'],\n",
    "                row['volatility_30_day'], row['EMA_10'], row['EMA_30']\n",
    "            ))\n",
    "\n",
    "        conn.commit()\n",
    "        cursor.close()\n",
    "        conn.close()\n",
    "        print(f\"Successfully pushed to {table_name}\")\n",
    "\n",
    "    except Exception as e:\n",
    "        print(f\"Error pushing calculated data to SQL: {e}\")\n"
   ]
  },
  {
   "cell_type": "markdown",
   "id": "49258c7b-9996-4c2a-8162-81ce77183a57",
   "metadata": {},
   "source": [
    "## Main"
   ]
  },
  {
   "cell_type": "code",
   "execution_count": 13,
   "id": "86579f97-84f9-41f1-a9c2-279cfff4fa73",
   "metadata": {},
   "outputs": [
    {
     "name": "stdout",
     "output_type": "stream",
     "text": [
      "Successfully pulled SQL Data\n",
      "Successfully pushed to full_stock_calculations\n"
     ]
    }
   ],
   "source": [
    "def main():\n",
    "    #Pull values, calculate new columns/features, push back to SQL\n",
    "    full_data = pull_from_sql()\n",
    "    back_to_sql = add_additional_features(full_data)\n",
    "    push_calculated_to_sql(back_to_sql)\n",
    "if __name__ == \"__main__\":\n",
    "    main() "
   ]
  },
  {
   "cell_type": "code",
   "execution_count": null,
   "id": "1c6d0d08-b025-4cf2-bc58-97ca467a116d",
   "metadata": {},
   "outputs": [],
   "source": []
  }
 ],
 "metadata": {
  "kernelspec": {
   "display_name": "Python [conda env:base] *",
   "language": "python",
   "name": "conda-base-py"
  },
  "language_info": {
   "codemirror_mode": {
    "name": "ipython",
    "version": 3
   },
   "file_extension": ".py",
   "mimetype": "text/x-python",
   "name": "python",
   "nbconvert_exporter": "python",
   "pygments_lexer": "ipython3",
   "version": "3.12.7"
  }
 },
 "nbformat": 4,
 "nbformat_minor": 5
}
