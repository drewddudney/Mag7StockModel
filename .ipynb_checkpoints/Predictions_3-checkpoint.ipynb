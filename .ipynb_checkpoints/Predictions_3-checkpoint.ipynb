{
 "cells": [
  {
   "cell_type": "markdown",
   "id": "8b12c253-77cc-44c0-a59c-f19897392c04",
   "metadata": {},
   "source": [
    "# Predictions\n",
    "### Script 3, **Only Run After Obtaining Model files from Modeling.py**"
   ]
  },
  {
   "cell_type": "code",
   "execution_count": 199,
   "id": "5a45c006-3e44-475f-b55d-310180be007c",
   "metadata": {},
   "outputs": [],
   "source": [
    "import pandas as pd\n",
    "#Models\n",
    "import joblib\n",
    "#SQL\n",
    "from sqlalchemy import create_engine\n",
    "import psycopg2"
   ]
  },
  {
   "cell_type": "markdown",
   "id": "57202ec3-ddf1-4580-bade-fec5e252b8b6",
   "metadata": {},
   "source": [
    "## Pull values from SQL"
   ]
  },
  {
   "cell_type": "code",
   "execution_count": 208,
   "id": "fab518fa-ebac-4ee8-89d0-e08da60958af",
   "metadata": {},
   "outputs": [],
   "source": [
    "def pull_from_sql(table_name=\"full_stock_calculations\"):\n",
    "    try:\n",
    "        # Create engine\n",
    "        user = os.getenv(\"DB_USER\")\n",
    "        password = os.getenv(\"DB_PASSWORD\")\n",
    "        host = os.getenv(\"DB_HOST\")\n",
    "        port = os.getenv(\"DB_PORT\")\n",
    "        db_name = os.getenv(\"DB_NAME\")\n",
    "\n",
    "        engine = create_engine(f\"postgresql+psycopg2://{user}:{password}@{host}:{port}/{db_name}\")\n",
    "\n",
    "        # Read into DataFrame\n",
    "        query = f\"SELECT * FROM {table_name};\"\n",
    "        df = pd.read_sql_query(query, engine)\n",
    "\n",
    "        print(\"Successfully pulled SQL Data\")\n",
    "        return df\n",
    "\n",
    "    except Exception as e:\n",
    "        print(f\"Error pulling data from SQL: {e}\")\n",
    "        return None\n",
    "    finally:\n",
    "        engine.dispose() "
   ]
  },
  {
   "cell_type": "markdown",
   "id": "3a61f508-2941-4128-b040-4d2dc58c16c8",
   "metadata": {},
   "source": [
    "## Make Predicitons of Next Day using saved Model files"
   ]
  },
  {
   "cell_type": "code",
   "execution_count": 191,
   "id": "0eefb5bf-8ddf-4a0b-b178-5b117794f821",
   "metadata": {},
   "outputs": [],
   "source": [
    "def make_predictions(models, full_data):\n",
    "    predictions = []\n",
    "\n",
    "    for symbol, model in models.items():\n",
    "        symbol_data = full_data[full_data['symbol'] == symbol]\n",
    "\n",
    "        if not symbol_data.empty:\n",
    "            input_features = symbol_data[['open_price', 'percent_change', 'cumulative_return', \n",
    "                                           'ma_10_day', 'ma_30_day', 'volatility_30_day', \n",
    "                                           'ema_10', 'ema_30']]\n",
    "            symbol_prediction = model.predict(input_features)\n",
    "\n",
    "            predictions.append(pd.DataFrame({\n",
    "                'symbol': symbol,\n",
    "                'previous_day_predicted_price': symbol_prediction,\n",
    "                'date': symbol_data['date']\n",
    "            }))\n",
    "\n",
    "    return pd.concat(predictions, ignore_index=True)\n"
   ]
  },
  {
   "cell_type": "markdown",
   "id": "2a97b410-e2ed-4ed7-997c-3b48a0ff0d48",
   "metadata": {},
   "source": [
    "## Push back to SQL"
   ]
  },
  {
   "cell_type": "code",
   "execution_count": 211,
   "id": "ec108bd0-3f9e-49aa-ad51-a729a28ba9b8",
   "metadata": {},
   "outputs": [],
   "source": [
    "def save_predictions_to_sql(predictions_df, table_name=\"predicted_stock_prices\"):\n",
    "    try:\n",
    "        # Connect to PostgreSQL\n",
    "        conn = psycopg2.connect(\n",
    "            dbname= os.getenv(\"DB_NAME\"),\n",
    "            user=os.getenv(\"DB_USER\"),\n",
    "            password=os.getenv(\"DB_PASSWORD\"),\n",
    "            host=os.getenv(\"DB_HOST\"),\n",
    "            port=os.getenv(\"DB_PORT\")\n",
    "        )\n",
    "        cursor = conn.cursor()\n",
    "\n",
    "        # Create Table if doesn't exist\n",
    "        create_table_query = f\"\"\"\n",
    "        CREATE TABLE IF NOT EXISTS {table_name} (\n",
    "            symbol TEXT,\n",
    "            predicted_price FLOAT,\n",
    "            date DATE,\n",
    "            current_price FLOAT,\n",
    "            open_price FLOAT,\n",
    "            percent_change FLOAT,\n",
    "            cumulative_return FLOAT,\n",
    "            ma_10_day FLOAT,\n",
    "            ma_30_day FLOAT,\n",
    "            volatility_30_day FLOAT,\n",
    "            ema_10 FLOAT,\n",
    "            ema_30 FLOAT,\n",
    "            previous_day_predicted_price FLOAT,\n",
    "            PRIMARY KEY (symbol, date)\n",
    "        );\n",
    "        \"\"\"\n",
    "        cursor.execute(create_table_query)\n",
    "\n",
    "        # Insert Data\n",
    "        for _, row in combined_data.iterrows():\n",
    "            insert_query = f\"\"\"\n",
    "            INSERT INTO {table_name} (symbol, predicted_price, date, current_price, open_price, percent_change, cumulative_return, ma_10_day, ma_30_day, volatility_30_day, ema_10, ema_30, previous_day_predicted_price)\n",
    "            VALUES (%s, %s, %s, %s, %s, %s, %s, %s, %s, %s, %s, %s, %s)\n",
    "            ON CONFLICT (symbol, date) DO NOTHING;\n",
    "            \"\"\"\n",
    "            cursor.execute(insert_query, (\n",
    "                row['symbol'], row['previous_day_predicted_price'], row['date'],\n",
    "                row['current_price'], row['open_price'], row['percent_change'],\n",
    "                row['cumulative_return'], row['ma_10_day'], row['ma_30_day'],\n",
    "                row['volatility_30_day'], row['ema_10'], row['ema_30'], row['predicted_price']\n",
    "            ))\n",
    "        conn.commit()\n",
    "        cursor.close()\n",
    "        conn.close()\n",
    "        print(f\"Successfully pushed to {table_name}\")\n",
    "\n",
    "    except Exception as e:\n",
    "        print(f\"Error inserting predictions into SQL: {e}\")"
   ]
  },
  {
   "cell_type": "markdown",
   "id": "859d8267-1d40-4feb-8b7d-541c3e846bed",
   "metadata": {},
   "source": [
    "## Main"
   ]
  },
  {
   "cell_type": "code",
   "execution_count": null,
   "id": "3c3022e3-72b3-4b18-9cdc-e6f4c0018de1",
   "metadata": {},
   "outputs": [],
   "source": [
    "def main():\n",
    "    full_data = pull_from_sql()\n",
    "    symbols = [\"AAPL\", \"AMZN\", \"GOOGL\", \"META\", \"MSFT\", \"NVDA\", \"TSLA\"]\n",
    "    #Run model for all symbols\n",
    "    models = {symbol: joblib.load(f'stock_price_predictor_{symbol}.joblib') for symbol in symbols}\n",
    "    #DataFrame\n",
    "    predictions_df = make_predictions(models, full_data)\n",
    "    #Shift for current day price\n",
    "    predictions_df['predicted_price'] = predictions_df.groupby('symbol')['previous_day_predicted_price'].shift(1)\n",
    "    #Combine data into one df\n",
    "    combined_data = pd.merge(full_data, predictions_df, on=['symbol', 'date'], how='left')\n",
    "    combined_data = combined_data.drop(index=combined_data.index[:7])\n",
    "    #SQL\n",
    "    save_predictions_to_sql(combined_data)\n",
    "\n",
    "if __name__ == \"__main__\":\n",
    "    main()"
   ]
  },
  {
   "cell_type": "code",
   "execution_count": null,
   "id": "0c7b41c0-d8b2-446e-938e-4d674079b5f0",
   "metadata": {},
   "outputs": [],
   "source": []
  },
  {
   "cell_type": "code",
   "execution_count": null,
   "id": "1ad6b065-5142-47b8-ab34-08203e30818a",
   "metadata": {},
   "outputs": [],
   "source": []
  }
 ],
 "metadata": {
  "kernelspec": {
   "display_name": "Python [conda env:base] *",
   "language": "python",
   "name": "conda-base-py"
  },
  "language_info": {
   "codemirror_mode": {
    "name": "ipython",
    "version": 3
   },
   "file_extension": ".py",
   "mimetype": "text/x-python",
   "name": "python",
   "nbconvert_exporter": "python",
   "pygments_lexer": "ipython3",
   "version": "3.12.7"
  }
 },
 "nbformat": 4,
 "nbformat_minor": 5
}
