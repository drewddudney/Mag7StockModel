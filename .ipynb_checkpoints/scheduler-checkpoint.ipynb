{
 "cells": [
  {
   "cell_type": "code",
   "execution_count": 1,
   "id": "64e1d67c-9d2e-4cd0-bc4e-3445a353ada0",
   "metadata": {},
   "outputs": [],
   "source": [
    "import schedule\n",
    "import time\n",
    "import subprocess\n",
    "from datetime import datetime\n",
    "import pytz\n",
    "cst = pytz.timezone(\"America/Chicago\")\n",
    "\n",
    "def run_script(script_name):\n",
    "    print(f\"Running {script_name} at {datetime.now(cst).strftime('%Y-%m-%d %I:%M:%S %p %Z')}\")\n",
    "    subprocess.run([\"python\", script_name])\n",
    "\n",
    "# Scheduled Script\n",
    "schedule.every().day.at(\"15:01\").do(run_script, \"FullStockPricing_1.py\")\n",
    "schedule.every().day.at(\"15:05\").do(run_script, \"Columns_2.py\")\n",
    "schedule.every().day.at(\"15:06\").do(run_script, \"Predictions_3.py\")\n",
    "schedule.every().day.at(\"15:07\").do(run_script, \"ModelEvaluation_4.py\")\n",
    "\n",
    "print(\"Scheduler started... Waiting for the correct time to execute.\")\n",
    "\n",
    "# Keep the script running\n",
    "while True:\n",
    "    schedule.run_pending()\n",
    "    time.sleep(30)  # Check every 30 seconds\n"
   ]
  },
  {
   "cell_type": "code",
   "execution_count": 3,
   "id": "0deb96f5-d6b7-4173-b30b-309dfa57e751",
   "metadata": {},
   "outputs": [
    {
     "name": "stdout",
     "output_type": "stream",
     "text": [
      "Scheduler started... Waiting for the correct time to execute.\n"
     ]
    },
    {
     "ename": "KeyboardInterrupt",
     "evalue": "",
     "output_type": "error",
     "traceback": [
      "\u001b[1;31m---------------------------------------------------------------------------\u001b[0m",
      "\u001b[1;31mKeyboardInterrupt\u001b[0m                         Traceback (most recent call last)",
      "Cell \u001b[1;32mIn[3], line 19\u001b[0m\n\u001b[0;32m     17\u001b[0m \u001b[38;5;28;01mwhile\u001b[39;00m \u001b[38;5;28;01mTrue\u001b[39;00m:\n\u001b[0;32m     18\u001b[0m     schedule\u001b[38;5;241m.\u001b[39mrun_pending()\n\u001b[1;32m---> 19\u001b[0m     time\u001b[38;5;241m.\u001b[39msleep(\u001b[38;5;241m30\u001b[39m)\n",
      "\u001b[1;31mKeyboardInterrupt\u001b[0m: "
     ]
    }
   ],
   "source": []
  }
 ],
 "metadata": {
  "kernelspec": {
   "display_name": "Python [conda env:base] *",
   "language": "python",
   "name": "conda-base-py"
  },
  "language_info": {
   "codemirror_mode": {
    "name": "ipython",
    "version": 3
   },
   "file_extension": ".py",
   "mimetype": "text/x-python",
   "name": "python",
   "nbconvert_exporter": "python",
   "pygments_lexer": "ipython3",
   "version": "3.12.7"
  }
 },
 "nbformat": 4,
 "nbformat_minor": 5
}
