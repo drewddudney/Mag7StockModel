{
 "cells": [
  {
   "cell_type": "code",
   "execution_count": null,
   "id": "5df0b6cf-8345-4c2a-94ea-8a3f7eff19e2",
   "metadata": {},
   "outputs": [],
   "source": [
    "import schedule\n",
    "import time\n",
    "import datetime\n",
    "import subprocess\n",
    "import pandas as pd\n",
    "\n",
    "def is_business_day():\n",
    "    today = datetime.date.today()\n",
    "    return pd.Timestamp(today).is_busday()\n",
    "\n",
    "def run_script(script_name):\n",
    "    print(f\"Running {script_name} at {datetime.datetime.now().strftime('%H:%M:%S')}\")\n",
    "    subprocess.run([\"python\", script_name], check=True)\n",
    "\n",
    "def schedule_tasks():\n",
    "    if is_business_day():\n",
    "        schedule.every().day.at(\"15:01\").do(run_script, \"FullStockPricing_1.py\")\n",
    "        schedule.every().day.at(\"15:05\").do(run_script, \"Columns_2.py\")\n",
    "        schedule.every().day.at(\"15:06\").do(run_script, \"Predictions_3.py\")\n",
    "        schedule.every().day.at(\"15:07\").do(run_script, \"ModelEvaluation_4.py\")\n",
    "        print(\"Tasks scheduled for today.\")\n",
    "    else:\n",
    "        print(\"Not a business day. No tasks scheduled.\")\n",
    "\n",
    "# Initial scheduling\n",
    "schedule_tasks()\n",
    "schedule.run_pending()\n"
   ]
  }
 ],
 "metadata": {
  "kernelspec": {
   "display_name": "Python [conda env:base] *",
   "language": "python",
   "name": "conda-base-py"
  },
  "language_info": {
   "codemirror_mode": {
    "name": "ipython",
    "version": 3
   },
   "file_extension": ".py",
   "mimetype": "text/x-python",
   "name": "python",
   "nbconvert_exporter": "python",
   "pygments_lexer": "ipython3",
   "version": "3.12.7"
  }
 },
 "nbformat": 4,
 "nbformat_minor": 5
}
