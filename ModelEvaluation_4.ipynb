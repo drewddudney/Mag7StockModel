{
 "cells": [
  {
   "cell_type": "markdown",
   "id": "66229d51-4f25-4c02-a8c6-6992cbb339fa",
   "metadata": {},
   "source": [
    "# Model Evaluation\n",
    "### Script 4"
   ]
  },
  {
   "cell_type": "code",
   "execution_count": 1,
   "id": "5a45c006-3e44-475f-b55d-310180be007c",
   "metadata": {},
   "outputs": [],
   "source": [
    "import pandas as pd\n",
    "import numpy as np\n",
    "from datetime import datetime, timedelta\n",
    "#SQL \n",
    "from sqlalchemy import create_engine\n",
    "import os\n",
    "import psycopg2\n",
    "#Modeling\n",
    "import joblib\n",
    "from sklearn.metrics import r2_score, mean_absolute_error, mean_squared_error\n",
    "from sqlalchemy import create_engine\n"
   ]
  },
  {
   "cell_type": "markdown",
   "id": "9c504028-0af3-444c-8728-c57f15c3c245",
   "metadata": {},
   "source": [
    "## Pull values from SQL"
   ]
  },
  {
   "cell_type": "code",
   "execution_count": 3,
   "id": "fab518fa-ebac-4ee8-89d0-e08da60958af",
   "metadata": {},
   "outputs": [],
   "source": [
    "def pull_from_sql(table_name=\"predicted_stock_prices\"):\n",
    "    try:\n",
    "        #Create Engine\n",
    "        user = os.getenv(\"DB_USER\")\n",
    "        password = os.getenv(\"DB_PASSWORD\")\n",
    "        host = os.getenv(\"DB_HOST\")\n",
    "        port = os.getenv(\"DB_PORT\")\n",
    "        db_name = os.getenv(\"DB_NAME\")\n",
    "        if not all([user, password, host, port, db_name]):\n",
    "            raise ValueError(\"One or more environment variables are not set correctly.\")\n",
    "\n",
    "        engine = create_engine(f\"postgresql+psycopg2://{user}:{password}@{host}:{port}/{db_name}\")\n",
    "\n",
    "        # Read data into DataFrame\n",
    "        query = f\"SELECT * FROM {table_name};\"\n",
    "        df = pd.read_sql_query(query, engine)\n",
    "\n",
    "        print(\"Successfully pulled SQL Data\")\n",
    "        return df\n",
    "\n",
    "    except Exception as e:\n",
    "        print(f\"Error pulling data from SQL: {e}\")\n",
    "        return None"
   ]
  },
  {
   "cell_type": "markdown",
   "id": "2b805415-3c24-435b-b6aa-dee3dd54ef8c",
   "metadata": {},
   "source": [
    "## Create two different filters for evaluation calculations"
   ]
  },
  {
   "cell_type": "code",
   "execution_count": 7,
   "id": "b1a45103-2c94-478a-ab34-9a947e47ec00",
   "metadata": {},
   "outputs": [],
   "source": [
    "def filter_data(full_data):\n",
    "    actual_data = full_data[['symbol', 'date', 'current_price']]\n",
    "    predicted_data = full_data[['symbol', 'date', 'previous_day_predicted_price']]\n",
    "    return actual_data, predicted_data"
   ]
  },
  {
   "cell_type": "markdown",
   "id": "0ef9dd2e-de4b-4147-8bb2-5048680a0d66",
   "metadata": {},
   "source": [
    "## Evalulate the Model"
   ]
  },
  {
   "cell_type": "code",
   "execution_count": 10,
   "id": "0eefb5bf-8ddf-4a0b-b178-5b117794f821",
   "metadata": {},
   "outputs": [],
   "source": [
    "def eval_metrics(merged_data):\n",
    "    metrics = []\n",
    "    for symbol in merged_data['symbol'].unique():\n",
    "        stock_data = merged_data[merged_data['symbol'] == symbol]\n",
    "        \n",
    "        r2 = r2_score(stock_data['current_price'], stock_data['previous_day_predicted_price'])\n",
    "        mae = mean_absolute_error(stock_data['current_price'], stock_data['previous_day_predicted_price'])\n",
    "        mse = mean_squared_error(stock_data['current_price'], stock_data['previous_day_predicted_price'])\n",
    "        rmse = np.sqrt(mse)  # Ensure RMSE is calculated correctly\n",
    "        directional_accuracy = np.mean(np.sign(stock_data['current_price'].diff().iloc[1:]) == np.sign(stock_data['previous_day_predicted_price'].diff().iloc[1:]))\n",
    "\n",
    "        metrics.append({'symbol': symbol, 'r_squared': r2, 'mae': mae, 'rmse': rmse, 'mse': mse, 'directional_accuracy': directional_accuracy\n",
    "        })\n",
    "    \n",
    "    return pd.DataFrame(metrics)\n"
   ]
  },
  {
   "cell_type": "markdown",
   "id": "434f95f3-90ff-47d8-a26b-c6ca0eaace00",
   "metadata": {},
   "source": [
    "## Push back to SQL"
   ]
  },
  {
   "cell_type": "code",
   "execution_count": 13,
   "id": "ec108bd0-3f9e-49aa-ad51-a729a28ba9b8",
   "metadata": {},
   "outputs": [],
   "source": [
    "def save_predictions_to_sql(predictions_df, table_name=\"model_eval\"):\n",
    "    try:\n",
    "        # Connect to PostgreSQL\n",
    "        conn = psycopg2.connect(\n",
    "            dbname= os.getenv(\"DB_NAME\"),\n",
    "            user=os.getenv(\"DB_USER\"),\n",
    "            password=os.getenv(\"DB_PASSWORD\"),\n",
    "            host=os.getenv(\"DB_HOST\"),\n",
    "            port=os.getenv(\"DB_PORT\")\n",
    "        )\n",
    "        cursor = conn.cursor()\n",
    "\n",
    "# Create Table if it doesn't exist\n",
    "        create_table_query = f\"\"\"\n",
    "        CREATE TABLE IF NOT EXISTS {table_name} (\n",
    "            symbol TEXT,\n",
    "            r_squared FLOAT,\n",
    "            mae FLOAT,\n",
    "            rmse FLOAT,\n",
    "            mse FLOAT,\n",
    "            directional_accuracy FLOAT,\n",
    "            PRIMARY KEY (symbol)\n",
    "        );\n",
    "        \"\"\"\n",
    "        cursor.execute(create_table_query)\n",
    "\n",
    "        # Insert Data\n",
    "        for _, row in predictions_df.iterrows():\n",
    "            insert_query = f\"\"\"\n",
    "            INSERT INTO {table_name} (symbol, r_squared, mae, rmse, mse, directional_accuracy)\n",
    "            VALUES (%s, %s, %s, %s, %s, %s)\n",
    "            ON CONFLICT (symbol) DO NOTHING;\n",
    "            \"\"\"\n",
    "            cursor.execute(insert_query, (\n",
    "                row['symbol'], row['r_squared'], row['mae'], row['rmse'], row['mse'], row['directional_accuracy']\n",
    "            ))\n",
    "        conn.commit()\n",
    "        cursor.close()\n",
    "        conn.close()\n",
    "        print(f\"Successfully pushed to {table_name}\")\n",
    "\n",
    "    except Exception as e:\n",
    "        print(f\"Error inserting predictions into SQL: {e}\")\n"
   ]
  },
  {
   "cell_type": "markdown",
   "id": "e1ba869f-14e2-455a-8be5-f4f9985218a4",
   "metadata": {},
   "source": [
    "## Main"
   ]
  },
  {
   "cell_type": "code",
   "execution_count": 16,
   "id": "3c3022e3-72b3-4b18-9cdc-e6f4c0018de1",
   "metadata": {},
   "outputs": [
    {
     "name": "stdout",
     "output_type": "stream",
     "text": [
      "Successfully pulled SQL Data\n",
      "Successfully pushed to model_eval\n"
     ]
    }
   ],
   "source": [
    "def main():\n",
    "    # Pull from SQL\n",
    "    full_data = pull_from_sql()\n",
    "    \n",
    "    # Filter necessary columns\n",
    "    actual_data, predicted_data = filter_data(full_data)\n",
    "    merged_data = pd.merge(actual_data, predicted_data, on=['symbol', 'date'], how='inner')\n",
    "    # Evalulation of model\n",
    "    metrics_df = eval_metrics(merged_data)\n",
    "\n",
    "    #SQL\n",
    "    save_predictions_to_sql(metrics_df)\n",
    "\n",
    "if __name__ == \"__main__\":\n",
    "    main()  # Execute the main function"
   ]
  },
  {
   "cell_type": "code",
   "execution_count": null,
   "id": "2aa1a81b-81ca-4298-8dd1-12a5e0be2941",
   "metadata": {},
   "outputs": [],
   "source": []
  },
  {
   "cell_type": "code",
   "execution_count": null,
   "id": "1ad6b065-5142-47b8-ab34-08203e30818a",
   "metadata": {},
   "outputs": [],
   "source": []
  }
 ],
 "metadata": {
  "kernelspec": {
   "display_name": "Python [conda env:base] *",
   "language": "python",
   "name": "conda-base-py"
  },
  "language_info": {
   "codemirror_mode": {
    "name": "ipython",
    "version": 3
   },
   "file_extension": ".py",
   "mimetype": "text/x-python",
   "name": "python",
   "nbconvert_exporter": "python",
   "pygments_lexer": "ipython3",
   "version": "3.12.7"
  }
 },
 "nbformat": 4,
 "nbformat_minor": 5
}
