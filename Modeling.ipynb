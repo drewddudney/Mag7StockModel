{
 "cells": [
  {
   "cell_type": "markdown",
   "id": "3472f91d-3a40-4fc8-8611-bfceb7963795",
   "metadata": {},
   "source": [
    "# Model\n",
    "## Using random Forest"
   ]
  },
  {
   "cell_type": "code",
   "execution_count": 101,
   "id": "8c8d788d-91c3-4942-a22a-074139f9007a",
   "metadata": {},
   "outputs": [],
   "source": [
    "from sqlalchemy import create_engine\n",
    "import pandas as pd\n",
    "import numpy as np\n",
    "from sklearn.model_selection import train_test_split\n",
    "from sklearn.ensemble import RandomForestRegressor\n",
    "from sklearn.metrics import mean_squared_error, r2_score\n",
    "import joblib\n",
    "import os"
   ]
  },
  {
   "cell_type": "markdown",
   "id": "11d20ad8-0a45-4331-bdd9-09b900f772c6",
   "metadata": {},
   "source": [
    "## Pull Data from SQL"
   ]
  },
  {
   "cell_type": "code",
   "execution_count": 99,
   "id": "191ef029-ff35-4c30-97f3-8a7bddf39828",
   "metadata": {},
   "outputs": [],
   "source": [
    "def pull_from_sql(table_name=\"full_stock_calculations\"):\n",
    "    try:\n",
    "        user = os.getenv(\"DB_USER\")\n",
    "        password = os.getenv(\"DB_PASSWORD\")\n",
    "        host = os.getenv(\"DB_HOST\")\n",
    "        port = os.getenv(\"DB_PORT\")\n",
    "        db_name = os.getenv(\"DB_NAME\")\n",
    "\n",
    "        engine = create_engine(f\"postgresql+psycopg2://{user}:{password}@{host}:{port}/{db_name}\")\n",
    "\n",
    "        # Read data into DataFrame\n",
    "        query = f\"SELECT * FROM {table_name};\"\n",
    "        df = pd.read_sql_query(query, engine)\n",
    "\n",
    "        print(\"Successfully pulled SQL Data\")\n",
    "        return df\n",
    "\n",
    "    except Exception as e:\n",
    "        print(f\"Error pulling data from SQL: {e}\")\n",
    "        return None\n",
    "    finally:\n",
    "        engine.dispose() \n"
   ]
  },
  {
   "cell_type": "markdown",
   "id": "0cae1d57-cc66-4384-8a3b-11edef360aa8",
   "metadata": {},
   "source": [
    "## Training Models, then saving via joblib"
   ]
  },
  {
   "cell_type": "code",
   "execution_count": 90,
   "id": "ad2a2ec2-b254-4a3d-b019-5cccaf55e409",
   "metadata": {},
   "outputs": [],
   "source": [
    "def train_stock_models(full_data):\n",
    "    symbols = full_data['symbol'].unique()\n",
    "\n",
    "    for symbol in symbols:\n",
    "        print(f\"Training model for {symbol}...\")\n",
    "        \n",
    "        # Filter data\n",
    "        symbol_data = full_data[full_data['symbol'] == symbol].copy()\n",
    "        \n",
    "        # Shift target\n",
    "        symbol_data['target'] = symbol_data['current_price'].shift(-1)\n",
    "        symbol_data = symbol_data.dropna()\n",
    "\n",
    "        # Define features and target variable\n",
    "        features = symbol_data[['open_price', 'percent_change', 'cumulative_return', \n",
    "                                'ma_10_day', 'ma_30_day', 'volatility_30_day', \n",
    "                                'ema_10', 'ema_30']]\n",
    "        target = symbol_data['target']\n",
    "        \n",
    "        # Split the data into training and testing sets\n",
    "        X_train, X_test, y_train, y_test = train_test_split(features, target, test_size=0.2, random_state=42)\n",
    "\n",
    "        # Train the model\n",
    "        model = RandomForestRegressor(n_estimators=100, random_state=42)\n",
    "        model.fit(X_train, y_train)\n",
    "\n",
    "        # Make predictions\n",
    "        y_pred = model.predict(X_test)\n",
    "\n",
    "        # Evaluate the model\n",
    "        mse = mean_squared_error(y_test, y_pred)\n",
    "        r2 = r2_score(y_test, y_pred)\n",
    "\n",
    "        print(f\"Mean Squared Error for {symbol}: {mse}\")\n",
    "        print(f\"R-squared for {symbol}: {r2}\")\n",
    "\n",
    "        # Save the model\n",
    "        joblib.dump(model, f'stock_price_predictor_{symbol}.joblib')\n",
    "        print(f\"Model for {symbol} saved as stock_price_predictor_{symbol}.joblib\")\n"
   ]
  },
  {
   "cell_type": "markdown",
   "id": "7d67391a-f32f-477d-8aab-5debdf484b2e",
   "metadata": {},
   "source": [
    "## Main "
   ]
  },
  {
   "cell_type": "code",
   "execution_count": null,
   "id": "dfb960fc-3103-4245-81c4-8e753fc6406b",
   "metadata": {},
   "outputs": [],
   "source": [
    "def main():\n",
    "    # Load data into a DataFrame\n",
    "    full_data = pull_from_sql()\n",
    "    #Run and Train models\n",
    "    train_stock_models(full_data)\n",
    "\n",
    "if __name__ == \"__main__\":\n",
    "    main()"
   ]
  },
  {
   "cell_type": "code",
   "execution_count": null,
   "id": "b1ce4c01-6c9e-46d4-861e-52e55db3db3c",
   "metadata": {},
   "outputs": [],
   "source": []
  },
  {
   "cell_type": "code",
   "execution_count": null,
   "id": "ed226bd6-773c-4f8d-9cf3-8eeeb232561b",
   "metadata": {},
   "outputs": [],
   "source": []
  }
 ],
 "metadata": {
  "kernelspec": {
   "display_name": "Python [conda env:base] *",
   "language": "python",
   "name": "conda-base-py"
  },
  "language_info": {
   "codemirror_mode": {
    "name": "ipython",
    "version": 3
   },
   "file_extension": ".py",
   "mimetype": "text/x-python",
   "name": "python",
   "nbconvert_exporter": "python",
   "pygments_lexer": "ipython3",
   "version": "3.12.7"
  }
 },
 "nbformat": 4,
 "nbformat_minor": 5
}
