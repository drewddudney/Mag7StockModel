{
 "cells": [
  {
   "cell_type": "markdown",
   "id": "15a68352-91a6-4312-93d0-0f28ff9173ee",
   "metadata": {},
   "source": [
    "# Stock Pricing Pulls\n",
    "### Script 1"
   ]
  },
  {
   "cell_type": "code",
   "execution_count": 19,
   "id": "cf027667-9610-4b75-b170-b4ae05f4c90e",
   "metadata": {},
   "outputs": [],
   "source": [
    "#Imports\n",
    "#Webscraping\n",
    "import requests\n",
    "from bs4 import BeautifulSoup\n",
    "import random\n",
    "import time\n",
    "import pytz\n",
    "#Data \n",
    "import pandas as pd\n",
    "import numpy as np\n",
    "from datetime import datetime\n",
    "#SQL\n",
    "import psycopg2\n",
    "import os"
   ]
  },
  {
   "cell_type": "code",
   "execution_count": null,
   "id": "d71b70c3-58e5-4ba2-9857-ce7837a02128",
   "metadata": {},
   "outputs": [],
   "source": []
  },
  {
   "cell_type": "code",
   "execution_count": 5,
   "id": "4580de57-58b7-4e1c-9238-983253f31f62",
   "metadata": {},
   "outputs": [],
   "source": [
    "#I personally like to extract to an HTML file to open in NoteBook++ to check out the format, already done.\n",
    "#with open('yahoo_test.html','wb') as file:\n",
    "   # file.write(soup.prettify('utf-8'))"
   ]
  },
  {
   "cell_type": "markdown",
   "id": "e9a51a6f-f0d8-4e4a-958d-756920401316",
   "metadata": {},
   "source": [
    "## Pulls Current Day Pricing"
   ]
  },
  {
   "cell_type": "code",
   "execution_count": 21,
   "id": "97fd1d36-c8cf-4bad-adbf-3a8e80b6b772",
   "metadata": {},
   "outputs": [],
   "source": [
    "def get_stock_info(stock_data):\n",
    "    cst = pytz.timezone('America/Chicago')\n",
    "    current_time = datetime.now(cst)\n",
    "    if current_time.hour < 15:\n",
    "        print(\"Stock data retrieval is only allowed after Close.\")\n",
    "        return stock_data \n",
    "    \n",
    "    symbols = [\"AAPL\",\"AMZN\",\"GOOGL\",\"META\",\"MSFT\",\"NVDA\",\"TSLA\"]\n",
    "    base_url = \"https://finance.yahoo.com/quote/\"\n",
    "    headers = {\"User-Agent\": \"Mozilla/5.0\"}\n",
    "    \n",
    "\n",
    "    today_date = pd.Timestamp(datetime.today().date())\n",
    "\n",
    "    for symbol in symbols:\n",
    "        try:\n",
    "            response = requests.get(f\"{base_url}{symbol}/\", headers=headers)\n",
    "            time.sleep(random.uniform(10, 30))  # Random delay to prevent blocking\n",
    "            response.raise_for_status()\n",
    "        except requests.exceptions.RequestException as e:\n",
    "            print(f\"Error receiving data for {symbol}: {e}\")\n",
    "            continue  # Skip to the next symbol\n",
    "\n",
    "        # Parse Website using lxml parser\n",
    "        soup = BeautifulSoup(response.text, 'lxml')\n",
    "\n",
    "        # Extracting, finding in HTML\n",
    "        current_price_element = soup.find(\"span\", {\"data-testid\": \"qsp-price\"})\n",
    "        open_price_element = soup.find(\"fin-streamer\", {\"data-field\": \"regularMarketOpen\"})\n",
    "        name_element = soup.find(\"h1\", {\"class\": \"yf-xxbei9\"})\n",
    "\n",
    "        # Extract stock details with type conversion\n",
    "        try:\n",
    "            price = float(current_price_element.get_text(strip=True).replace(\",\", \"\")) if current_price_element else None\n",
    "        except ValueError:\n",
    "            price = None\n",
    "\n",
    "        try:\n",
    "            open_price = float(open_price_element.get_text(strip=True).replace(\",\", \"\")) if open_price_element else None\n",
    "        except ValueError:\n",
    "            open_price = None\n",
    "\n",
    "        name = name_element.text.split('(')[0].strip() if name_element else \"N/A\"\n",
    "\n",
    "        # Store data in a list of dictionaries, including the current date\n",
    "        stock_data.append({\n",
    "            \"symbol\": symbol,\n",
    "            \"name\": name,\n",
    "            \"date\": today_date,\n",
    "            \"current_price\": price,\n",
    "            \"open_price\": open_price,\n",
    "        })\n",
    "\n",
    "        print(f\"Fetched data for {symbol}\")\n",
    "\n",
    "    return stock_data\n"
   ]
  },
  {
   "cell_type": "markdown",
   "id": "6edb9f07-7a04-4f8d-9c6f-f5cd47336647",
   "metadata": {},
   "source": [
    "## Pulls Historical Data From CSV\n",
    "\n",
    "Data Source:\n",
    "https://www.kaggle.com/datasets/unmoved/magnificent-7-past-10-years-prices-updated-daily"
   ]
  },
  {
   "cell_type": "code",
   "execution_count": 11,
   "id": "e654fbc8-3b7d-4ecd-a1b4-a5e65229330a",
   "metadata": {},
   "outputs": [],
   "source": [
    "def clean_historical_data():\n",
    "    # Load CSV data into a DataFrame\n",
    "    df = pd.read_csv('HistoricalData.csv')\n",
    "\n",
    "    df['Date'] = pd.to_datetime(df['Date'])\n",
    "\n",
    "    # New DataFrame for final output\n",
    "    temp_data = []\n",
    "    symbol_to_name = {\"AAPL\": \"Apple Inc.\",\n",
    "                      \"AMZN\": \"Amazon.com, Inc.\",\n",
    "                      \"GOOGL\": \"Alphabet Inc.\",\n",
    "                      \"META\": \"Meta Platforms, Inc.\",\n",
    "                      \"MSFT\": \"Microsoft Corporation\",\n",
    "                      \"NVDA\": \"NVIDIA Corporation\",\n",
    "                      \"TSLA\": \"Tesla, Inc.\"\n",
    "                     }\n",
    "   \n",
    "    for symbol in df.columns[1:]:\n",
    "        symbol_data = df[['Date', symbol]].copy() \n",
    "        symbol_data.rename(columns={symbol: 'current_price'}, inplace=True)\n",
    "\n",
    "        # Add columns\n",
    "        symbol_data['symbol'] = symbol\n",
    "        symbol_data['current_price'] = round(symbol_data['current_price'],2)\n",
    "        symbol_data['name'] = symbol_data['symbol'].map(symbol_to_name)\n",
    "        symbol_data['open_price'] = round(symbol_data['current_price'].shift(1),2)\n",
    "        symbol_data = symbol_data[['symbol', 'name', 'Date', 'current_price', 'open_price']]\n",
    "        temp_data.append(symbol_data)\n",
    "\n",
    "    # Concatenate all symbol data into a single DataFrame\n",
    "    final_df = pd.concat(temp_data, ignore_index=True)\n",
    "\n",
    "    # Rename 'Date' column to 'date'\n",
    "    final_df.rename(columns={'Date': 'date'}, inplace=True)\n",
    "\n",
    "    # Drop rows with NaN values\n",
    "    final_df.dropna(subset=['current_price'], inplace=True)\n",
    "    final_df.sort_values(by='date', inplace=True)\n",
    "   \n",
    "    # Drop the first row (earliest date) if it's the only row with NaN open prices\n",
    "    final_df.reset_index(drop=True, inplace=True)\n",
    "\n",
    "    return final_df"
   ]
  },
  {
   "cell_type": "markdown",
   "id": "1be232ba-bc5c-4459-b7dc-b29a3f3884eb",
   "metadata": {},
   "source": [
    "## Connecting to PostgreSQL"
   ]
  },
  {
   "cell_type": "code",
   "execution_count": 14,
   "id": "b4400fbd-1313-45fd-9198-2eaa3b5fc866",
   "metadata": {},
   "outputs": [],
   "source": [
    "def push_to_sql(df, table_name=\"stock_prices\"):\n",
    "    try:\n",
    "        # Connect to PostgreSQL\n",
    "        conn = psycopg2.connect(\n",
    "            dbname= os.getenv(\"DB_NAME\"),\n",
    "            user=os.getenv(\"DB_USER\"),\n",
    "            password=os.getenv(\"DB_PASSWORD\"),\n",
    "            host=os.getenv(\"DB_HOST\"),\n",
    "            port=os.getenv(\"DB_PORT\")\n",
    "        )\n",
    "        cursor = conn.cursor()\n",
    "\n",
    "        # Create Table if it doesn't exist\n",
    "        create_table_query = f\"\"\"\n",
    "        CREATE TABLE IF NOT EXISTS {table_name} (\n",
    "            symbol TEXT,\n",
    "            name TEXT,\n",
    "            date DATE,\n",
    "            current_price FLOAT,\n",
    "            open_price FLOAT,\n",
    "            PRIMARY KEY (symbol, date)\n",
    "        );\n",
    "        \"\"\"\n",
    "        cursor.execute(create_table_query)\n",
    "\n",
    "        # Insert Data\n",
    "        for _, row in df.iterrows():\n",
    "            insert_query = f\"\"\"\n",
    "            INSERT INTO {table_name} (symbol, name, date, current_price, open_price)\n",
    "            VALUES (%s, %s, %s, %s, %s)\n",
    "            ON CONFLICT (symbol, date) DO NOTHING;\n",
    "            \"\"\"\n",
    "            cursor.execute(insert_query, (\n",
    "                row['symbol'], row['name'], row['date'],\n",
    "                row['current_price'], row['open_price']\n",
    "            ))\n",
    "\n",
    "        # Commit changes and close connection\n",
    "        conn.commit()\n",
    "        cursor.close()\n",
    "        conn.close()\n",
    "        print(f\"Successfully pushed to {table_name}\")\n",
    "\n",
    "    except Exception as e:\n",
    "        print(f\"Error pushing data to SQL: {e}\")"
   ]
  },
  {
   "cell_type": "markdown",
   "id": "29dff4a5-cd82-4a78-9f8f-16c0c7aadc4c",
   "metadata": {},
   "source": [
    "## Main"
   ]
  },
  {
   "cell_type": "code",
   "execution_count": 25,
   "id": "5f64934d-21ba-493d-ad7e-5279034b06c2",
   "metadata": {},
   "outputs": [
    {
     "name": "stdout",
     "output_type": "stream",
     "text": [
      "Stock data retrieval is only allowed after Close.\n",
      "Successfully pushed to stock_prices\n"
     ]
    }
   ],
   "source": [
    "def main():\n",
    "    # Pull current stock data\n",
    "    stock_data = get_stock_info([])  # Initialize and populate stock_data\n",
    "    stock_data_df = pd.DataFrame(stock_data)\n",
    "\n",
    "    # Pull historical data\n",
    "    historical_data = clean_historical_data()\n",
    "\n",
    "    # Concatenate the two DataFrames\n",
    "    full_data = pd.concat([historical_data, stock_data_df], ignore_index=True)\n",
    "\n",
    "    # Upload to SQL\n",
    "    push_to_sql(full_data)\n",
    "\n",
    "if __name__ == \"__main__\":\n",
    "    main() "
   ]
  },
  {
   "cell_type": "code",
   "execution_count": null,
   "id": "dd50c8e2-d8ad-4a44-b05d-facf2dcc2242",
   "metadata": {},
   "outputs": [],
   "source": []
  },
  {
   "cell_type": "code",
   "execution_count": null,
   "id": "6815b96d-6318-4426-a6eb-4709b0428642",
   "metadata": {},
   "outputs": [],
   "source": []
  },
  {
   "cell_type": "code",
   "execution_count": null,
   "id": "e8e3e1db-3e75-4a53-9c47-c9ff63f56911",
   "metadata": {},
   "outputs": [],
   "source": []
  }
 ],
 "metadata": {
  "kernelspec": {
   "display_name": "Python [conda env:base] *",
   "language": "python",
   "name": "conda-base-py"
  },
  "language_info": {
   "codemirror_mode": {
    "name": "ipython",
    "version": 3
   },
   "file_extension": ".py",
   "mimetype": "text/x-python",
   "name": "python",
   "nbconvert_exporter": "python",
   "pygments_lexer": "ipython3",
   "version": "3.12.7"
  }
 },
 "nbformat": 4,
 "nbformat_minor": 5
}
